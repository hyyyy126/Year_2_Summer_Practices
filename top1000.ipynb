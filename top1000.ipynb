{
 "cells": [
  {
   "cell_type": "code",
   "execution_count": 3,
   "id": "3b65310a",
   "metadata": {},
   "outputs": [
    {
     "data": {
      "text/plain": [
       "6.403"
      ]
     },
     "execution_count": 3,
     "metadata": {},
     "output_type": "execute_result"
    }
   ],
   "source": [
    "import math\n",
    "import pandas as pd\n",
    "# BNC data\n",
    "n = pd.read_csv(\"n.csv\")\n",
    "v = pd.read_csv(\"v.csv\")\n",
    "a = pd.read_csv(\"a.csv\")\n",
    "x = []\n",
    "for i in n[\"a\"]:\n",
    "    x.append(i)\n",
    "for i in v[\"a\"]:\n",
    "    x.append(i)\n",
    "for i in a[\"a\"]:\n",
    "    x.append(i)\n",
    "l = []\n",
    "for i in x:\n",
    "    l.append(len(i))\n",
    "average = sum(l) / len(l)\n",
    "average"
   ]
  }
 ],
 "metadata": {
  "kernelspec": {
   "display_name": "base",
   "language": "python",
   "name": "python3"
  },
  "language_info": {
   "codemirror_mode": {
    "name": "ipython",
    "version": 3
   },
   "file_extension": ".py",
   "mimetype": "text/x-python",
   "name": "python",
   "nbconvert_exporter": "python",
   "pygments_lexer": "ipython3",
   "version": "3.12.7"
  }
 },
 "nbformat": 4,
 "nbformat_minor": 5
}
